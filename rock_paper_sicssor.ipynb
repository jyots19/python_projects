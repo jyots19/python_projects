{
 "cells": [
  {
   "cell_type": "code",
   "execution_count": null,
   "id": "25d67a06-7629-477f-83ec-332db1cdd02e",
   "metadata": {},
   "outputs": [],
   "source": [
    "import random\n",
    "from enum import IntEnum"
   ]
  },
  {
   "cell_type": "code",
   "execution_count": null,
   "id": "9dcb15fe-e9ae-4acf-a4d0-c87943fc72e4",
   "metadata": {},
   "outputs": [],
   "source": [
    "class Action(IntEnum):\n",
    "    Rock=0\n",
    "    Paper=1\n",
    "    Scissors=2\n",
    "    Lizard = 3\n",
    "    Spock = 4"
   ]
  },
  {
   "cell_type": "code",
   "execution_count": null,
   "id": "17ae213b-1f32-45e6-8c93-e8523992399b",
   "metadata": {},
   "outputs": [],
   "source": [
    "def get_user_selection():\n",
    "    choices=[f\"{action.name}[{action.value}]\"for action in Action]\n",
    "    choices_str=\",\".join(choices)\n",
    "    selection=int(input(f\"Enter your choice ({choices_str}):\"))\n",
    "    action=Action(selection)\n",
    "    return action"
   ]
  },
  {
   "cell_type": "code",
   "execution_count": null,
   "id": "4033ba90-855c-4b0d-b073-94d8bee78cef",
   "metadata": {},
   "outputs": [],
   "source": [
    "get_user_selection()"
   ]
  },
  {
   "cell_type": "code",
   "execution_count": null,
   "id": "53a00a70-82b5-4317-879f-c35d451eb61f",
   "metadata": {},
   "outputs": [],
   "source": [
    "def get_computer_selection():\n",
    "    selection=random.randint(0,len(Action) -1)\n",
    "    action=Action(selection)\n",
    "    return action"
   ]
  },
  {
   "cell_type": "code",
   "execution_count": null,
   "id": "0ffb92f2-934d-41ba-abd5-605ee3260997",
   "metadata": {},
   "outputs": [],
   "source": [
    "get_computer_selection()"
   ]
  },
  {
   "cell_type": "code",
   "execution_count": null,
   "id": "9c5d2ca4-629a-4a9b-8d5f-270a94299a8d",
   "metadata": {},
   "outputs": [],
   "source": [
    "def determine_winner(user_action, computer_action):\n",
    "    victories = {\n",
    "        Action.Rock: [Action.Scissors],  # Rock beats scissors\n",
    "        Action.Paper: [Action.Rock],  # Paper beats rock\n",
    "        Action.Scissors: [Action.Paper]  # Scissors beats paper\n",
    "    }\n",
    "\n",
    "    defeats = victories[user_action]\n",
    "    if user_action == computer_action:\n",
    "        print(f\"Both players selected {user_action.name}. It's a tie!\")\n",
    "    elif computer_action in defeats:\n",
    "        print(f\"{user_action.name} beats {computer_action.name}! You win!\")\n",
    "    else:\n",
    "        print(f\"{computer_action.name} beats {user_action.name}! You lose.\")"
   ]
  },
  {
   "cell_type": "code",
   "execution_count": null,
   "id": "8624051f-cf38-44e1-88c2-5fa37d4790fe",
   "metadata": {},
   "outputs": [],
   "source": []
  },
  {
   "cell_type": "code",
   "execution_count": null,
   "id": "20ee7dda-b49f-477e-9134-8fa2de0a6f9f",
   "metadata": {},
   "outputs": [],
   "source": []
  }
 ],
 "metadata": {
  "kernelspec": {
   "display_name": "Python 3 (ipykernel)",
   "language": "python",
   "name": "python3"
  },
  "language_info": {
   "codemirror_mode": {
    "name": "ipython",
    "version": 3
   },
   "file_extension": ".py",
   "mimetype": "text/x-python",
   "name": "python",
   "nbconvert_exporter": "python",
   "pygments_lexer": "ipython3",
   "version": "3.12.2"
  }
 },
 "nbformat": 4,
 "nbformat_minor": 5
}
